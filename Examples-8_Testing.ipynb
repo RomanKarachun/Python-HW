{
 "cells": [
  {
   "cell_type": "markdown",
   "id": "still-sending",
   "metadata": {},
   "source": [
    "### Simple tests in Python"
   ]
  },
  {
   "cell_type": "code",
   "execution_count": 10,
   "id": "ec8c6713",
   "metadata": {},
   "outputs": [
    {
     "name": "stdout",
     "output_type": "stream",
     "text": [
      "Is Iterable =  True\n",
      "Is Iterator =  False\n"
     ]
    }
   ],
   "source": []
  },
  {
   "cell_type": "code",
   "execution_count": 11,
   "id": "e731fa4a",
   "metadata": {},
   "outputs": [
    {
     "ename": "AssertionError",
     "evalue": "sum_(1,2) != 4",
     "output_type": "error",
     "traceback": [
      "\u001b[1;31m---------------------------------------------------------------------------\u001b[0m",
      "\u001b[1;31mAssertionError\u001b[0m                            Traceback (most recent call last)",
      "\u001b[1;32m<ipython-input-11-6ef935dc1d82>\u001b[0m in \u001b[0;36m<module>\u001b[1;34m\u001b[0m\n\u001b[0;32m      3\u001b[0m \u001b[1;33m\u001b[0m\u001b[0m\n\u001b[0;32m      4\u001b[0m \u001b[1;32mif\u001b[0m \u001b[0m__name__\u001b[0m \u001b[1;33m==\u001b[0m \u001b[1;34m\"__main__\"\u001b[0m\u001b[1;33m:\u001b[0m\u001b[1;33m\u001b[0m\u001b[1;33m\u001b[0m\u001b[0m\n\u001b[1;32m----> 5\u001b[1;33m     \u001b[1;32massert\u001b[0m \u001b[0msum_\u001b[0m\u001b[1;33m(\u001b[0m\u001b[1;36m1\u001b[0m\u001b[1;33m,\u001b[0m\u001b[1;36m2\u001b[0m\u001b[1;33m)\u001b[0m \u001b[1;33m==\u001b[0m \u001b[1;36m4\u001b[0m\u001b[1;33m,\u001b[0m \u001b[1;34m\"sum_(1,2) != 4\"\u001b[0m\u001b[1;33m\u001b[0m\u001b[1;33m\u001b[0m\u001b[0m\n\u001b[0m",
      "\u001b[1;31mAssertionError\u001b[0m: sum_(1,2) != 4"
     ]
    }
   ],
   "source": [
    "def sum_(a,b):\n",
    "    return a + b\n",
    "\n",
    "if __name__ == \"__main__\":\n",
    "    assert sum_(1,2) == 4, \"sum_(1,2) != 4\""
   ]
  },
  {
   "cell_type": "markdown",
   "id": "51cea077",
   "metadata": {},
   "source": [
    "### Unit tests in Python"
   ]
  },
  {
   "cell_type": "code",
   "execution_count": 13,
   "id": "prostate-certification",
   "metadata": {},
   "outputs": [
    {
     "name": "stderr",
     "output_type": "stream",
     "text": [
      ".F.\n",
      "======================================================================\n",
      "FAIL: test_split (__main__.TestStringMethods)\n",
      "----------------------------------------------------------------------\n",
      "Traceback (most recent call last):\n",
      "  File \"<ipython-input-13-280472065e85>\", line 22, in test_split\n",
      "    s.split(\" \")\n",
      "AssertionError: TypeError not raised\n",
      "\n",
      "----------------------------------------------------------------------\n",
      "Ran 3 tests in 0.003s\n",
      "\n",
      "FAILED (failures=1)\n"
     ]
    }
   ],
   "source": [
    "%reset -f\n",
    "import unittest\n",
    "\n",
    "\n",
    "class TestStringMethods(unittest.TestCase):\n",
    "    def test_upper(self):\n",
    "        data = 'foo'\n",
    "        result = data.upper()\n",
    "        expected = 'FOO'\n",
    "        self.assertEqual(result, expected)\n",
    "\n",
    "    def test_isupper(self):\n",
    "        self.assertTrue('FOO'.isupper())\n",
    "        self.assertFalse('Foo'.isupper())\n",
    "\n",
    "    def test_split(self):\n",
    "        s = 'hello world'\n",
    "        self.assertEqual(s.split(), ['hello', 'world'])\n",
    "        \n",
    "        # check that s.split fails when the separator is not a string\n",
    "        with self.assertRaises(TypeError):\n",
    "            s.split(\" \")\n",
    "\n",
    "\n",
    "if __name__ == '__main__':\n",
    "    unittest.main(argv=[''], exit=False)"
   ]
  },
  {
   "cell_type": "code",
   "execution_count": 16,
   "id": "southern-hughes",
   "metadata": {},
   "outputs": [
    {
     "name": "stderr",
     "output_type": "stream",
     "text": [
      ".F"
     ]
    },
    {
     "name": "stdout",
     "output_type": "stream",
     "text": [
      "-1) setUpClass\n",
      "0) setUp\n",
      "1) test_case_1\n",
      "6) tearDown\n",
      "0) setUp\n",
      "2) test_case_2\n",
      "6) tearDown\n",
      "5) tearDownClass\n"
     ]
    },
    {
     "name": "stderr",
     "output_type": "stream",
     "text": [
      "\n",
      "======================================================================\n",
      "FAIL: test_case_2 (__main__.TestStringMethods)\n",
      "----------------------------------------------------------------------\n",
      "Traceback (most recent call last):\n",
      "  File \"<ipython-input-16-d375c0dcaf82>\", line 26, in test_case_2\n",
      "    self.assertEqual(1, 2)\n",
      "AssertionError: 1 != 2\n",
      "\n",
      "----------------------------------------------------------------------\n",
      "Ran 2 tests in 0.003s\n",
      "\n",
      "FAILED (failures=1)\n"
     ]
    }
   ],
   "source": [
    "%reset -f\n",
    "# setUp and tearDown\n",
    "\n",
    "import unittest\n",
    "\n",
    "db_connection = db.connect()\n",
    "\n",
    "class TestStringMethods(unittest.TestCase):\n",
    "    def setUp(self):\n",
    "        print('0) setUp')\n",
    "    def tearDown(self):\n",
    "        print('6) tearDown')\n",
    "    \n",
    "    @classmethod\n",
    "    def setUpClass(cls):\n",
    "        print('-1) setUpClass')\n",
    "    \n",
    "    @classmethod\n",
    "    def tearDownClass(cls):\n",
    "        print('5) tearDownClass')\n",
    "    \n",
    "    def test_case_1(self):\n",
    "        print('1) test_case_1')\n",
    "        \n",
    "    def test_case_2(self):\n",
    "        print('2) test_case_2')\n",
    "        self.assertEqual(1, 2)\n",
    "\n",
    "    def test_function(self):\n",
    "        print('3) function')\n",
    "\n",
    "        \n",
    "if __name__ == '__main__':\n",
    "    unittest.main(argv=[''], exit=False)"
   ]
  },
  {
   "cell_type": "markdown",
   "id": "detected-median",
   "metadata": {},
   "source": [
    "### Command line interface"
   ]
  },
  {
   "cell_type": "raw",
   "id": "wicked-prerequisite",
   "metadata": {},
   "source": [
    "python -m unittest test_module1 test_module2\n",
    "python -m unittest test_module.TestClass\n",
    "python -m unittest test_module.TestClass.test_method"
   ]
  },
  {
   "cell_type": "code",
   "execution_count": null,
   "id": "compound-moore",
   "metadata": {
    "scrolled": true
   },
   "outputs": [],
   "source": [
    "%%bash\n",
    "python -m unittest model.test_duck"
   ]
  },
  {
   "cell_type": "code",
   "execution_count": null,
   "id": "entire-peter",
   "metadata": {},
   "outputs": [],
   "source": [
    "%%bash\n",
    "python -m unittest model.test_duck.TestDuck.test_duck_can_fly"
   ]
  },
  {
   "cell_type": "markdown",
   "id": "pregnant-spending",
   "metadata": {},
   "source": [
    "#### nosetests"
   ]
  },
  {
   "cell_type": "raw",
   "id": "chronic-merit",
   "metadata": {},
   "source": [
    "$ nosetests --with-coverage --cover-erase --cover-package=flask_encryptedsession --cover-html\n",
    "..........\n",
    "Name                                      Stmts   Miss  Cover   Missing\n",
    "-----------------------------------------------------------------------\n",
    "flask_encryptedsession                        0      0   100%   \n",
    "flask_encryptedsession.encryptedcookie       41      1    98%   176\n",
    "flask_encryptedsession.encryptedsession      35      1    97%   75\n",
    "-----------------------------------------------------------------------\n",
    "TOTAL                                        76      2    97%   \n",
    "----------------------------------------------------------------------\n",
    "Ran 10 tests in 0.188s\n",
    "\n",
    "OK"
   ]
  },
  {
   "cell_type": "markdown",
   "id": "seventh-jacksonville",
   "metadata": {},
   "source": [
    "#### coverage"
   ]
  },
  {
   "cell_type": "code",
   "execution_count": null,
   "id": "distant-contest",
   "metadata": {},
   "outputs": [],
   "source": [
    "%%bash\n",
    "pip3 install coverage"
   ]
  },
  {
   "cell_type": "code",
   "execution_count": null,
   "id": "leading-occurrence",
   "metadata": {},
   "outputs": [],
   "source": [
    "%%bash\n",
    "coverage run -m unittest discover\n",
    "coverage report -m"
   ]
  },
  {
   "cell_type": "markdown",
   "id": "periodic-abraham",
   "metadata": {},
   "source": [
    "### Mock"
   ]
  },
  {
   "cell_type": "code",
   "execution_count": 19,
   "id": "proved-annual",
   "metadata": {},
   "outputs": [
    {
     "name": "stdout",
     "output_type": "stream",
     "text": [
      "Connect to DB\n",
      "1\n",
      "13\n"
     ]
    }
   ],
   "source": [
    "%reset -f\n",
    "from unittest.mock import MagicMock\n",
    "\n",
    "\n",
    "class A:\n",
    "    def method(self, a, b, c, key):\n",
    "        print('Connect to DB')\n",
    "        return 1\n",
    "\n",
    "thing = A()\n",
    "print(thing.method(3, 4, 5, key='value'))\n",
    "thing.method = MagicMock(return_value=13)\n",
    "print(thing.method(3, 4, 5, key='value'))"
   ]
  },
  {
   "cell_type": "code",
   "execution_count": 22,
   "id": "unnecessary-belfast",
   "metadata": {},
   "outputs": [
    {
     "data": {
      "text/plain": [
       "'None'"
      ]
     },
     "execution_count": 22,
     "metadata": {},
     "output_type": "execute_result"
    }
   ],
   "source": [
    "repr(thing.method.assert_called_with(3, 4, 5, key='value'))"
   ]
  },
  {
   "cell_type": "code",
   "execution_count": 21,
   "id": "respiratory-objective",
   "metadata": {},
   "outputs": [
    {
     "ename": "AssertionError",
     "evalue": "expected call not found.\nExpected: mock(1, 2, 3, key='name')\nActual: mock(3, 4, 5, key='value')",
     "output_type": "error",
     "traceback": [
      "\u001b[1;31m---------------------------------------------------------------------------\u001b[0m",
      "\u001b[1;31mAssertionError\u001b[0m                            Traceback (most recent call last)",
      "\u001b[1;32m<ipython-input-21-650a5c89a7f7>\u001b[0m in \u001b[0;36m<module>\u001b[1;34m\u001b[0m\n\u001b[1;32m----> 1\u001b[1;33m \u001b[0mthing\u001b[0m\u001b[1;33m.\u001b[0m\u001b[0mmethod\u001b[0m\u001b[1;33m.\u001b[0m\u001b[0massert_called_with\u001b[0m\u001b[1;33m(\u001b[0m\u001b[1;36m1\u001b[0m\u001b[1;33m,\u001b[0m \u001b[1;36m2\u001b[0m\u001b[1;33m,\u001b[0m \u001b[1;36m3\u001b[0m\u001b[1;33m,\u001b[0m \u001b[0mkey\u001b[0m\u001b[1;33m=\u001b[0m\u001b[1;34m'name'\u001b[0m\u001b[1;33m)\u001b[0m\u001b[1;33m\u001b[0m\u001b[1;33m\u001b[0m\u001b[0m\n\u001b[0m",
      "\u001b[1;32m~\\Anaconda3\\lib\\unittest\\mock.py\u001b[0m in \u001b[0;36massert_called_with\u001b[1;34m(self, *args, **kwargs)\u001b[0m\n\u001b[0;32m    911\u001b[0m         \u001b[1;32mif\u001b[0m \u001b[0mexpected\u001b[0m \u001b[1;33m!=\u001b[0m \u001b[0mactual\u001b[0m\u001b[1;33m:\u001b[0m\u001b[1;33m\u001b[0m\u001b[1;33m\u001b[0m\u001b[0m\n\u001b[0;32m    912\u001b[0m             \u001b[0mcause\u001b[0m \u001b[1;33m=\u001b[0m \u001b[0mexpected\u001b[0m \u001b[1;32mif\u001b[0m \u001b[0misinstance\u001b[0m\u001b[1;33m(\u001b[0m\u001b[0mexpected\u001b[0m\u001b[1;33m,\u001b[0m \u001b[0mException\u001b[0m\u001b[1;33m)\u001b[0m \u001b[1;32melse\u001b[0m \u001b[1;32mNone\u001b[0m\u001b[1;33m\u001b[0m\u001b[1;33m\u001b[0m\u001b[0m\n\u001b[1;32m--> 913\u001b[1;33m             \u001b[1;32mraise\u001b[0m \u001b[0mAssertionError\u001b[0m\u001b[1;33m(\u001b[0m\u001b[0m_error_message\u001b[0m\u001b[1;33m(\u001b[0m\u001b[1;33m)\u001b[0m\u001b[1;33m)\u001b[0m \u001b[1;32mfrom\u001b[0m \u001b[0mcause\u001b[0m\u001b[1;33m\u001b[0m\u001b[1;33m\u001b[0m\u001b[0m\n\u001b[0m\u001b[0;32m    914\u001b[0m \u001b[1;33m\u001b[0m\u001b[0m\n\u001b[0;32m    915\u001b[0m \u001b[1;33m\u001b[0m\u001b[0m\n",
      "\u001b[1;31mAssertionError\u001b[0m: expected call not found.\nExpected: mock(1, 2, 3, key='name')\nActual: mock(3, 4, 5, key='value')"
     ]
    }
   ],
   "source": [
    "thing.method.assert_called_with(1, 2, 3, key='name')"
   ]
  },
  {
   "cell_type": "markdown",
   "id": "olympic-death",
   "metadata": {},
   "source": [
    "### Patch"
   ]
  },
  {
   "cell_type": "code",
   "execution_count": 24,
   "id": "short-merchandise",
   "metadata": {},
   "outputs": [
    {
     "name": "stderr",
     "output_type": "stream",
     "text": [
      ".\n",
      "----------------------------------------------------------------------\n",
      "Ran 1 test in 0.002s\n",
      "\n",
      "OK\n"
     ]
    }
   ],
   "source": [
    "%reset -f\n",
    "import os\n",
    "import unittest\n",
    "from unittest.mock import patch\n",
    "\n",
    "\n",
    "def write_text_to_file(text, file_path):\n",
    "    file_object = open(file_path, 'w')\n",
    "    file_object.write(text)\n",
    "    file_object.close()\n",
    "\n",
    "\n",
    "class TestCase(unittest.TestCase):\n",
    "    def test_write_text_to_file(self):\n",
    "        test_text = 'test_text'\n",
    "        test_file_path = os.path.join('test', 'file', 'path')\n",
    "\n",
    "        with patch('builtins.open') as file_mock:\n",
    "            write_text_to_file(test_text, test_file_path)\n",
    "\n",
    "        file_mock.assert_called_with(test_file_path, 'w')\n",
    "        file_mock.return_value.write.assert_called_once_with(test_text)\n",
    "        file_mock.return_value.close.assert_called_once()\n",
    "\n",
    "\n",
    "\n",
    "if __name__ == '__main__':\n",
    "    unittest.main(argv=[''], exit=False)"
   ]
  },
  {
   "cell_type": "code",
   "execution_count": 27,
   "id": "262d5b49-94fa-48f8-a28e-503135db2cdd",
   "metadata": {},
   "outputs": [
    {
     "name": "stderr",
     "output_type": "stream",
     "text": [
      "."
     ]
    },
    {
     "name": "stdout",
     "output_type": "stream",
     "text": [
      "Message was saved!\n"
     ]
    },
    {
     "name": "stderr",
     "output_type": "stream",
     "text": [
      "\n",
      "----------------------------------------------------------------------\n",
      "Ran 1 test in 0.001s\n",
      "\n",
      "OK\n"
     ]
    }
   ],
   "source": [
    "%reset -f\n",
    "import unittest\n",
    "from unittest.mock import patch\n",
    "\n",
    "import db_api\n",
    "\n",
    "\n",
    "def save_message(message):\n",
    "    db_api.write_message_to_db(f\"My message is '{message}'\")\n",
    "    print(\"Message was saved!\")\n",
    "    \n",
    "    \n",
    "class TestSaveMessage(unittest.TestCase):\n",
    "\n",
    "    @patch(\"db_api.write_message_to_db\")\n",
    "    def test_correct_message_to_db(self, mocked_write_to_db):\n",
    "        message = \"Test message\"\n",
    "\n",
    "        save_message(message)\n",
    "\n",
    "        mocked_write_to_db.assert_called_once_with(\n",
    "            f\"My message is 'Test message'\"\n",
    "        )\n",
    "        \n",
    "if __name__ == '__main__':\n",
    "    unittest.main(argv=[''], exit=False)"
   ]
  },
  {
   "cell_type": "markdown",
   "id": "d0b672fb-1c63-42af-b31d-e4962359b860",
   "metadata": {
    "tags": []
   },
   "source": [
    "### Skip test"
   ]
  },
  {
   "cell_type": "code",
   "execution_count": 26,
   "id": "26c03305-1cc9-49c5-905d-a3359fcc6f5b",
   "metadata": {},
   "outputs": [
    {
     "name": "stderr",
     "output_type": "stream",
     "text": [
      "xsF\n",
      "======================================================================\n",
      "FAIL: test_with_unavailable_resource (__main__.TestCase)\n",
      "----------------------------------------------------------------------\n",
      "Traceback (most recent call last):\n",
      "  File \"<ipython-input-26-3571579119dd>\", line 18, in test_with_unavailable_resource\n",
      "    self.assertTrue(False)\n",
      "AssertionError: False is not true\n",
      "\n",
      "----------------------------------------------------------------------\n",
      "Ran 3 tests in 0.004s\n",
      "\n",
      "FAILED (failures=1, skipped=1, expected failures=1)\n"
     ]
    }
   ],
   "source": [
    "%reset -f\n",
    "import unittest\n",
    "\n",
    "unavailable_resource = False\n",
    "\n",
    "\n",
    "class TestCase(unittest.TestCase):\n",
    "    @unittest.skip(\"demonstrating skipping\")\n",
    "    def test_is_not_working(self):\n",
    "        self.assertTrue(False)\n",
    "\n",
    "    @unittest.expectedFailure\n",
    "    def test_also_is_not_working(self):\n",
    "        self.assertTrue(False)\n",
    "\n",
    "    @unittest.skipIf(unavailable_resource, \"Resource is not available\")\n",
    "    def test_with_unavailable_resource(self):\n",
    "        self.assertTrue(False)\n",
    "\n",
    "\n",
    "if __name__ == '__main__':\n",
    "    unittest.main(argv=[''], exit=False)"
   ]
  },
  {
   "cell_type": "code",
   "execution_count": 31,
   "id": "1e7ff0cb",
   "metadata": {},
   "outputs": [
    {
     "name": "stderr",
     "output_type": "stream",
     "text": [
      "..\n",
      "----------------------------------------------------------------------\n",
      "Ran 2 tests in 0.002s\n",
      "\n",
      "OK\n"
     ]
    }
   ],
   "source": [
    "%reset -f\n",
    "import unittest\n",
    "\n",
    "unavailable_resource = True\n",
    "\n",
    "\n",
    "def is_positive(number):\n",
    "    return number > 0\n",
    "\n",
    "class TestCase(unittest.TestCase):\n",
    "    \n",
    "    def test_is_positive(self):\n",
    "        self.assertTrue(is_positive(10))\n",
    "    \n",
    "\n",
    "    def test_is_negative(self):\n",
    "        self.assertFalse(is_positive(-10))\n",
    "    \n",
    "\n",
    "if __name__ == '__main__':\n",
    "    unittest.main(argv=[''], exit=False)"
   ]
  }
 ],
 "metadata": {
  "kernelspec": {
   "display_name": "Python 3",
   "language": "python",
   "name": "python3"
  },
  "language_info": {
   "codemirror_mode": {
    "name": "ipython",
    "version": 3
   },
   "file_extension": ".py",
   "mimetype": "text/x-python",
   "name": "python",
   "nbconvert_exporter": "python",
   "pygments_lexer": "ipython3",
   "version": "3.8.8"
  }
 },
 "nbformat": 4,
 "nbformat_minor": 5
}
